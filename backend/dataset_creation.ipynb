{
  "cells": [
    {
      "cell_type": "code",
      "execution_count": 1,
      "metadata": {
        "id": "TbwH4uHQpyn9"
      },
      "outputs": [],
      "source": [
        "from langchain.document_loaders import PyPDFLoader, DirectoryLoader\n",
        "from langchain.text_splitter import RecursiveCharacterTextSplitter"
      ]
    },
    {
      "cell_type": "code",
      "execution_count": 3,
      "metadata": {
        "id": "6edPqpsFp0bU"
      },
      "outputs": [],
      "source": [
        "#load the pdf files from the path\n",
        "loader = DirectoryLoader('data/',glob=\"*.pdf\",loader_cls=PyPDFLoader)\n",
        "documents = loader.load()"
      ]
    },
    {
      "cell_type": "code",
      "execution_count": 4,
      "metadata": {
        "colab": {
          "base_uri": "https://localhost:8080/"
        },
        "id": "8uMyrLZZfYYs",
        "outputId": "a80ba2c9-938e-4dbb-9973-f808aeb50c8e"
      },
      "outputs": [],
      "source": [
        "#split text into chunks\n",
        "text_splitter  = RecursiveCharacterTextSplitter(chunk_size=1000,chunk_overlap=100)"
      ]
    },
    {
      "cell_type": "code",
      "execution_count": 5,
      "metadata": {
        "id": "_-AhB_DGvQp0"
      },
      "outputs": [],
      "source": [
        "splits = text_splitter.split_documents(documents)"
      ]
    },
    {
      "cell_type": "code",
      "execution_count": 6,
      "metadata": {
        "colab": {
          "base_uri": "https://localhost:8080/"
        },
        "id": "hMr_BcmTvL6q",
        "outputId": "c9af435d-b70f-456c-ca44-e3c239983954"
      },
      "outputs": [
        {
          "data": {
            "text/plain": [
              "4066"
            ]
          },
          "execution_count": 6,
          "metadata": {},
          "output_type": "execute_result"
        }
      ],
      "source": [
        "len(splits)"
      ]
    },
    {
      "cell_type": "code",
      "execution_count": 7,
      "metadata": {
        "colab": {
          "base_uri": "https://localhost:8080/"
        },
        "id": "GDmQejmqRzbV",
        "outputId": "631c8b30-5bd6-4e22-b4d8-586ee37a3455"
      },
      "outputs": [
        {
          "name": "stdout",
          "output_type": "stream",
          "text": [
            "TheGALE\n",
            "ENCYCLOPEDIA\n",
            "ofMEDICINE\n",
            "SECOND EDITION\n"
          ]
        }
      ],
      "source": [
        "print(splits[0].page_content)"
      ]
    },
    {
      "cell_type": "code",
      "execution_count": 8,
      "metadata": {
        "id": "Q5H2AHi3S7H5"
      },
      "outputs": [],
      "source": [
        "import pandas as pd\n",
        "df = pd.DataFrame([split.page_content for split in splits], columns=['text'])"
      ]
    },
    {
      "cell_type": "code",
      "execution_count": 9,
      "metadata": {
        "colab": {
          "base_uri": "https://localhost:8080/"
        },
        "id": "GefSHuVvTED_",
        "outputId": "d4be44b8-d13b-4931-826e-57b510f53aef"
      },
      "outputs": [
        {
          "data": {
            "text/plain": [
              "(4066, 1)"
            ]
          },
          "execution_count": 9,
          "metadata": {},
          "output_type": "execute_result"
        }
      ],
      "source": [
        "df.shape"
      ]
    },
    {
      "cell_type": "code",
      "execution_count": 10,
      "metadata": {
        "colab": {
          "base_uri": "https://localhost:8080/",
          "height": 206
        },
        "id": "2UA4pgUQTE6j",
        "outputId": "ac7c8858-5a27-4361-be3e-3eb74e947211"
      },
      "outputs": [
        {
          "data": {
            "text/html": [
              "<div>\n",
              "<style scoped>\n",
              "    .dataframe tbody tr th:only-of-type {\n",
              "        vertical-align: middle;\n",
              "    }\n",
              "\n",
              "    .dataframe tbody tr th {\n",
              "        vertical-align: top;\n",
              "    }\n",
              "\n",
              "    .dataframe thead th {\n",
              "        text-align: right;\n",
              "    }\n",
              "</style>\n",
              "<table border=\"1\" class=\"dataframe\">\n",
              "  <thead>\n",
              "    <tr style=\"text-align: right;\">\n",
              "      <th></th>\n",
              "      <th>text</th>\n",
              "    </tr>\n",
              "  </thead>\n",
              "  <tbody>\n",
              "    <tr>\n",
              "      <th>0</th>\n",
              "      <td>TheGALE\\nENCYCLOPEDIA\\nofMEDICINE\\nSECOND EDITION</td>\n",
              "    </tr>\n",
              "    <tr>\n",
              "      <th>1</th>\n",
              "      <td>TheGALE\\nENCYCLOPEDIA\\nofMEDICINE\\nSECOND EDIT...</td>\n",
              "    </tr>\n",
              "    <tr>\n",
              "      <th>2</th>\n",
              "      <td>STAFF\\nJacqueline L. Longe, Project Editor\\nDe...</td>\n",
              "    </tr>\n",
              "    <tr>\n",
              "      <th>3</th>\n",
              "      <td>Michelle DiMercurio, Senior Art Director\\nMike...</td>\n",
              "    </tr>\n",
              "    <tr>\n",
              "      <th>4</th>\n",
              "      <td>While every effort has been made to ensure the...</td>\n",
              "    </tr>\n",
              "  </tbody>\n",
              "</table>\n",
              "</div>"
            ],
            "text/plain": [
              "                                                text\n",
              "0  TheGALE\\nENCYCLOPEDIA\\nofMEDICINE\\nSECOND EDITION\n",
              "1  TheGALE\\nENCYCLOPEDIA\\nofMEDICINE\\nSECOND EDIT...\n",
              "2  STAFF\\nJacqueline L. Longe, Project Editor\\nDe...\n",
              "3  Michelle DiMercurio, Senior Art Director\\nMike...\n",
              "4  While every effort has been made to ensure the..."
            ]
          },
          "execution_count": 10,
          "metadata": {},
          "output_type": "execute_result"
        }
      ],
      "source": [
        "df.head()"
      ]
    },
    {
      "cell_type": "code",
      "execution_count": 11,
      "metadata": {
        "id": "B9lgulVpSPyd"
      },
      "outputs": [],
      "source": [
        "df.to_csv(\"train.csv\", index=False)"
      ]
    },
    {
      "cell_type": "code",
      "execution_count": null,
      "metadata": {
        "id": "RPouJr1iTRUY"
      },
      "outputs": [],
      "source": []
    }
  ],
  "metadata": {
    "colab": {
      "provenance": []
    },
    "kernelspec": {
      "display_name": "Python 3",
      "name": "python3"
    },
    "language_info": {
      "codemirror_mode": {
        "name": "ipython",
        "version": 3
      },
      "file_extension": ".py",
      "mimetype": "text/x-python",
      "name": "python",
      "nbconvert_exporter": "python",
      "pygments_lexer": "ipython3",
      "version": "3.12.2"
    }
  },
  "nbformat": 4,
  "nbformat_minor": 0
}
